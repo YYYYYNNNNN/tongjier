{
 "cells": [
  {
   "cell_type": "code",
   "execution_count": 46,
   "metadata": {},
   "outputs": [],
   "source": [
    "import numpy as np"
   ]
  },
  {
   "cell_type": "code",
   "execution_count": 47,
   "metadata": {},
   "outputs": [],
   "source": [
    "import os"
   ]
  },
  {
   "cell_type": "code",
   "execution_count": 48,
   "metadata": {},
   "outputs": [
    {
     "name": "stdout",
     "output_type": "stream",
     "text": [
      "(1934, 1024)\n",
      "(1934,)\n"
     ]
    }
   ],
   "source": [
    "path='C:/Users/Asus/Desktop/Classic_machine_learning-master/data_set/handwriting/trainingDigits'\n",
    "file_names = os.listdir(path)\n",
    "y_training = []         #训练样本标签\n",
    "x_training = []         #训练样本集\n",
    "for files in file_names:\n",
    "    Y = files.split('-')[0]\n",
    "    y_training.append(y)\n",
    "    files_path = path +'/'+ file\n",
    "    with open (files_path,'r') as e:\n",
    "        new_lines = e.readlines()\n",
    "        cache_y = []\n",
    "        for i in new_lines:\n",
    "            strip_lines = i.strip('\\n')\n",
    "            for g in strip_lines:\n",
    "                cache_y.append(np.float(g))\n",
    "        x_training.append(cache_y)\n",
    "X = np.array(x_training)\n",
    "y = np.array(y_training)\n",
    "print(X.shape)\n",
    "print(y.shape)"
   ]
  },
  {
   "cell_type": "code",
   "execution_count": 49,
   "metadata": {},
   "outputs": [],
   "source": [
    "def split_data(X,y,pre):\n",
    "    shuffle_index=np.random.permutation(X.shape[0])       #打乱数据\n",
    "    shuffle_X = X[shuffle_index,:]                      #按索引返回数据\n",
    "    shuffle_y = y[shuffle_index] \n",
    "    split_index = np.int(pre * X.shape[0])\n",
    "    train_x = shuffle_X[:split_index]            #取前split_index个\n",
    "    train_y = shuffle_y[:split_index]\n",
    "    test_x = shuffle_X[split_index:]\n",
    "    test_y = shuffle_y[split_index:]             #从split_index取\n",
    "    return train_x,train_y,test_x,test_y"
   ]
  },
  {
   "cell_type": "code",
   "execution_count": 50,
   "metadata": {},
   "outputs": [],
   "source": [
    "train_x,train_y,test_x,test_y = split_data(X,y,0.6)"
   ]
  },
  {
   "cell_type": "code",
   "execution_count": 51,
   "metadata": {},
   "outputs": [
    {
     "data": {
      "text/plain": [
       "(1160, 1024)"
      ]
     },
     "execution_count": 51,
     "metadata": {},
     "output_type": "execute_result"
    }
   ],
   "source": [
    "train_x.shape"
   ]
  },
  {
   "cell_type": "code",
   "execution_count": 52,
   "metadata": {},
   "outputs": [
    {
     "data": {
      "text/plain": [
       "(1160,)"
      ]
     },
     "execution_count": 52,
     "metadata": {},
     "output_type": "execute_result"
    }
   ],
   "source": [
    "train_y.shape"
   ]
  },
  {
   "cell_type": "code",
   "execution_count": 53,
   "metadata": {},
   "outputs": [
    {
     "data": {
      "text/plain": [
       "(774, 1024)"
      ]
     },
     "execution_count": 53,
     "metadata": {},
     "output_type": "execute_result"
    }
   ],
   "source": [
    "test_x.shape"
   ]
  },
  {
   "cell_type": "code",
   "execution_count": 54,
   "metadata": {},
   "outputs": [
    {
     "data": {
      "text/plain": [
       "(774,)"
      ]
     },
     "execution_count": 54,
     "metadata": {},
     "output_type": "execute_result"
    }
   ],
   "source": [
    "test_y.shape"
   ]
  },
  {
   "cell_type": "code",
   "execution_count": 69,
   "metadata": {},
   "outputs": [],
   "source": [
    "def KNN(train_x,train_y,test_x,test_y,K):\n",
    "    accuracy = 0\n",
    "    m,n = test_x.shape\n",
    "    for i in range(m):\n",
    "        data = test_x[i]\n",
    "        distance = np.power(np.sum((data - train_x)**2,axis=1),0.5)   #计算马氏距离\n",
    "        sort_k = np.argsort(distance)[:K]   \n",
    "        get_K_y = train_y[sort_k]\n",
    "        prob_dict = {}\n",
    "        for label in get_K_y:\n",
    "            if label not in prob_dict:\n",
    "                prob_dict[label] = 1\n",
    "            else:\n",
    "                prob_dict[label] += 1 \n",
    "        predict_y = sorted(prob_dict.items(),key=lambda z:z[1],reverse=True)[0][0]\n",
    "        if predict_y == test_y[i]:\n",
    "            accuracy += 1\n",
    "    print('The test set accurate is {}'.format(accuracy / len(test_y)))"
   ]
  },
  {
   "cell_type": "code",
   "execution_count": 70,
   "metadata": {},
   "outputs": [
    {
     "name": "stdout",
     "output_type": "stream",
     "text": [
      "The test set accurate is 1.0\n"
     ]
    }
   ],
   "source": [
    "KNN(train_x,train_y,test_x,test_y,5)"
   ]
  },
  {
   "cell_type": "code",
   "execution_count": null,
   "metadata": {},
   "outputs": [],
   "source": []
  },
  {
   "cell_type": "code",
   "execution_count": null,
   "metadata": {},
   "outputs": [],
   "source": []
  }
 ],
 "metadata": {
  "kernelspec": {
   "display_name": "Python 3",
   "language": "python",
   "name": "python3"
  },
  "language_info": {
   "codemirror_mode": {
    "name": "ipython",
    "version": 3
   },
   "file_extension": ".py",
   "mimetype": "text/x-python",
   "name": "python",
   "nbconvert_exporter": "python",
   "pygments_lexer": "ipython3",
   "version": "3.6.4"
  }
 },
 "nbformat": 4,
 "nbformat_minor": 2
}
