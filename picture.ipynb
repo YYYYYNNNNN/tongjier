{
 "cells": [
  {
   "cell_type": "code",
   "execution_count": 1,
   "metadata": {},
   "outputs": [
    {
     "name": "stdout",
     "output_type": "stream",
     "text": [
      "http://www.hanhande.com/upload/litimg/180117/091P612S5DDT.jpg\n",
      "http://www.hanhande.com/upload/litimg/180112/09541112S5D3919.jpg\n",
      "http://www.hanhande.com/upload/litimg/180105/09160112S5D4239.jpg\n",
      "http://www.hanhande.com/upload/litimg/180104/092J212S5D94a.jpg\n",
      "http://www.hanhande.com/upload/litimg/171230/09410512S5JG95.jpg\n",
      "http://www.hanhande.com/upload/litimg/171228/09115Q2S5D32H.jpg\n",
      "http://www.hanhande.com/upload/litimg/171208/09305212S5D5S2.jpg\n",
      "http://www.hanhande.com/upload/litimg/171205/09301G2S5D2H6.jpg\n",
      "http://www.hanhande.com/upload/litimg/171117/09420312S5D3328.jpg\n",
      "http://www.hanhande.com/upload/litimg/171116/09393Q2S5D22S.jpg\n",
      "http://www.hanhande.com/upload/litimg/171109/09210412S5D3S1.jpg\n",
      "http://www.hanhande.com/upload/litimg/171108/09420612S5DGG.jpg\n",
      "http://www.hanhande.com/upload/litimg/171031/09300112S5D1505.jpg\n",
      "http://www.hanhande.com/upload/litimg/171019/093P912S5D94M.jpg\n",
      "http://www.hanhande.com/upload/litimg/171007/100AG2S5J5A2.jpg\n",
      "http://www.hanhande.com/upload/171007/1283574_095P5304.jpg\n",
      "http://www.hanhande.com/upload/litimg/171006/09443341R5913464.jpg\n",
      "http://www.hanhande.com/upload/litimg/170929/10241612S5D2405.jpg\n",
      "http://www.hanhande.com/upload/litimg/170914/10264G2S5D2L9.jpg\n",
      "http://www.hanhande.com/upload/litimg/170908/09332612S5D51G.jpg\n",
      "http://www.hanhande.com/upload/litimg/170816/09410112S5DE02.jpg\n",
      "http://www.hanhande.com/upload/litimg/170811/09262312S5JR52.jpg\n",
      "http://www.hanhande.com/upload/litimg/170802/09361212S5D1124.jpg\n",
      "http://www.hanhande.com/upload/litimg/170727/094TG2S5D4231.jpg\n",
      "http://www.hanhande.com/upload/litimg/170613/09523112S5J1149.jpg\n",
      "http://www.hanhande.com/upload/litimg/170517/09314012S5DZ20.jpg\n",
      "http://www.hanhande.com/upload/litimg/170511/09453912S5D6245.jpg\n",
      "http://www.hanhande.com/upload/litimg/170228/10050212S5DVU.jpg\n",
      "http://www.hanhande.com/upload/170223/4182602_092451Q5.jpg\n",
      "http://www.hanhande.com/upload/litimg/170221/09195541R6029643.jpg\n",
      "http://www.hanhande.com/upload/litimg/170216/09435941R6023205.jpg\n",
      "http://www.hanhande.com/upload/litimg/170215/10063641R6022Z9.jpg\n",
      "http://www.hanhande.com/upload/litimg/170214/09555T1R6021M0.jpg\n",
      "http://www.hanhande.com/upload/litimg/170214/094T441R602H43.jpg\n",
      "http://www.hanhande.com/upload/litimg/170208/09141641R602Wb.jpg\n",
      "http://www.hanhande.com/upload/litimg/170207/092R341R60292I.jpg\n",
      "http://www.hanhande.com/upload/litimg/170206/095TG2S5D4637.jpg\n",
      "http://www.hanhande.com/upload/litimg/170205/12040112S5Jb53.jpg\n",
      "http://www.hanhande.com/upload/litimg/170204/112HQ2S5JIP.jpg\n",
      "http://www.hanhande.com/upload/litimg/170203/11102T1R5915645.png\n",
      "http://www.hanhande.com/upload/litimg/170331/1A01441R6029217.jpg\n",
      "http://www.hanhande.com/upload/litimg/170331/164I341R60221S.jpg\n",
      "http://www.hanhande.com/upload/litimg/170329/13393941R6022431.jpg\n",
      "http://www.hanhande.com/upload/litimg/170328/10512041R6024D5.jpg\n",
      "http://www.hanhande.com/upload/litimg/180403/15160112S5J9420.jpg\n",
      "http://www.hanhande.com/upload/litimg/180319/16103612S5J4127.jpg\n",
      "http://www.hanhande.com/upload/litimg/180117/091P612S5DDT.jpg\n",
      "http://www.hanhande.com/upload/litimg/180112/09541112S5D3919.jpg\n",
      "http://www.hanhande.com/upload/litimg/180105/09160112S5D4239.jpg\n",
      "http://www.hanhande.com/upload/litimg/180104/092J212S5D94a.jpg\n"
     ]
    }
   ],
   "source": [
    "import requests\n",
    "import re\n",
    "s=0\n",
    "res = requests.get('http://op.hanhande.com/shtml/op_wz/list_2602_1.shtml').text\n",
    "red = re.compile('<img\\ssrc=\\'(.*?)\\'\\s')\n",
    "result = re.findall(red,res)\n",
    "for i in result:\n",
    "    print(i)\n",
    "    s = s+1\n",
    "    response = requests.get(i)\n",
    "    with open('C://Users/Asus/Desktop/picture/tu('+str(s)+').jpg','wb')as f:\n",
    "        f.write(response.content)"
   ]
  },
  {
   "cell_type": "code",
   "execution_count": null,
   "metadata": {},
   "outputs": [],
   "source": []
  }
 ],
 "metadata": {
  "kernelspec": {
   "display_name": "Python 3",
   "language": "python",
   "name": "python3"
  },
  "language_info": {
   "codemirror_mode": {
    "name": "ipython",
    "version": 3
   },
   "file_extension": ".py",
   "mimetype": "text/x-python",
   "name": "python",
   "nbconvert_exporter": "python",
   "pygments_lexer": "ipython3",
   "version": "3.6.4"
  }
 },
 "nbformat": 4,
 "nbformat_minor": 2
}
