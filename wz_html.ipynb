{
 "cells": [
  {
   "cell_type": "code",
   "execution_count": 19,
   "metadata": {},
   "outputs": [],
   "source": [
    "def yn():\n",
    "    import requests\n",
    "    a=['http://all.17k.com/lib/book.html','http://zhuanti.17k.com/subject/2017dsip/pc/index.html']\n",
    "    file='C://Users/Asus/Desktop/xs.html'\n",
    "    with open('C://Users/Asus/Desktop/xs.html', 'a',encoding='utf-8')as f:\n",
    "        for i in range(2):\n",
    "            header={'User-Agent':'Mozilla/5.0 (Windows NT 10.0; WOW64) AppleWebKit/537.36 (KHTML, like Gecko) Chrome/67.0.3396.62 Safari/537.36'}\n",
    "            b=requests.get(a[i],header=header)\n",
    "            f.write(b.text)"
   ]
  },
  {
   "cell_type": "code",
   "execution_count": 13,
   "metadata": {},
   "outputs": [],
   "source": [
    "def yn():\n",
    "    import requests\n",
    "    a=['http://all.17k.com/lib/book.html','http://zhuanti.17k.com/subject/2017dsip/pc/index.html']\n",
    "    with open('C:/Users/Asus/Desktop/xiaoshuo.html','a',encoding='utf-8')as f:\n",
    "        for i in range(2):\n",
    "            response=resquests.get(a[i])\n",
    "            f.write(b.text)"
   ]
  },
  {
   "cell_type": "code",
   "execution_count": null,
   "metadata": {},
   "outputs": [],
   "source": []
  }
 ],
 "metadata": {
  "kernelspec": {
   "display_name": "Python 3",
   "language": "python",
   "name": "python3"
  },
  "language_info": {
   "codemirror_mode": {
    "name": "ipython",
    "version": 3
   },
   "file_extension": ".py",
   "mimetype": "text/x-python",
   "name": "python",
   "nbconvert_exporter": "python",
   "pygments_lexer": "ipython3",
   "version": "3.6.4"
  }
 },
 "nbformat": 4,
 "nbformat_minor": 2
}
